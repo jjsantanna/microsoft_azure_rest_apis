{
 "cells": [
  {
   "cell_type": "code",
   "execution_count": null,
   "metadata": {},
   "outputs": [],
   "source": [
    "appId = '' \n",
    "appSecret = '' \n",
    "tenantId = ''"
   ]
  },
  {
   "cell_type": "markdown",
   "metadata": {},
   "source": [
    "# Playing with 'Microsoft Threat Protection' API\n",
    "- Related to: Microsoft 365 Defender (M365D) \n",
    "- Documentation: https://docs.microsoft.com/en-us/microsoft-365/security/defender/api-supported\n",
    "- Resource URI: https://api.security.microsoft.com\n",
    "- API required: Microsoft Threat Protection\n",
    "- API permissions required:\n",
    "  - AdvancedHunting.Read.All\n",
    "  - Incident.Read.All\n",
    "- How to request access to admin: $https://login.microsoftonline.com/common/oauth2/authorize?prompt=consent&client_id=<HERE-THE-CLIENT-ID>&response_type=code&sso_reload=true$"
   ]
  },
  {
   "cell_type": "markdown",
   "metadata": {},
   "source": [
    "# Required libraries"
   ]
  },
  {
   "cell_type": "code",
   "execution_count": null,
   "metadata": {},
   "outputs": [],
   "source": [
    "import pandas as pd\n",
    "import json\n",
    "import urllib.parse"
   ]
  },
  {
   "cell_type": "markdown",
   "metadata": {},
   "source": [
    "<h1 align='center'>========================================================<br>=======================================================</h1>"
   ]
  },
  {
   "cell_type": "markdown",
   "metadata": {},
   "source": [
    "# Function to get the token (for security and securitycenter)"
   ]
  },
  {
   "cell_type": "code",
   "execution_count": null,
   "metadata": {},
   "outputs": [],
   "source": [
    "def getaadtoken(tenantId, appId, appSecret):\n",
    "    url = \"https://login.windows.net/%s/oauth2/token\" % (tenantId)\n",
    "    resourceAppIdUri = 'https://api.security.microsoft.com'\n",
    "    body = {\n",
    "        'resource' : resourceAppIdUri,\n",
    "        'client_id' : appId,\n",
    "        'client_secret' : appSecret,\n",
    "        'grant_type' : 'client_credentials'\n",
    "    }\n",
    "    data = urllib.parse.urlencode(body).encode(\"utf-8\")\n",
    "    req = urllib.request.Request(url, data)\n",
    "    response = urllib.request.urlopen(req)\n",
    "    jsonResponse = json.loads(response.read())\n",
    "    aadToken = jsonResponse[\"access_token\"]\n",
    "    return aadToken"
   ]
  },
  {
   "cell_type": "code",
   "execution_count": null,
   "metadata": {},
   "outputs": [],
   "source": [
    "access_token = getaadtoken(tenantId, appId, appSecret)"
   ]
  },
  {
   "cell_type": "markdown",
   "metadata": {},
   "source": [
    "<h1 align='center'>========================================================<br>=======================================================<br> ADVANCED HUNTING API</h1>\n",
    "\n",
    "https://docs.microsoft.com/en-us/microsoft-365/security/mtp/api-advanced-hunting?view=o365-worldwide\n",
    "\n",
    "Note: this API is the same as the of from the MDE/MDATP. Examples of queries [here!](https://github.com/microsoft/Microsoft-365-Defender-Hunting-Queries)"
   ]
  },
  {
   "cell_type": "markdown",
   "metadata": {},
   "source": [
    "# Function Run (KQL) - Still permission problems!"
   ]
  },
  {
   "cell_type": "code",
   "execution_count": null,
   "metadata": {},
   "outputs": [],
   "source": [
    "def advancedquery_run(access_token,kql_query):\n",
    "    url = \"https://api.security.microsoft.com/api/advancedqueries/run\"\n",
    "    data = json.dumps({ 'Query' : kql_query }).encode(\"utf-8\")    \n",
    "    headers={'Authorization' : \"Bearer \" + access_token, 'Content-Type':'application/json'}\n",
    "    req = urllib.request.Request(url, data, headers)\n",
    "    response = urllib.request.urlopen(req)\n",
    "    jsonResponse = json.loads(response.read())\n",
    "    return pd.DataFrame.from_records(jsonResponse['Results'])"
   ]
  },
  {
   "cell_type": "markdown",
   "metadata": {},
   "source": [
    "# Example of instantiating this function"
   ]
  },
  {
   "cell_type": "code",
   "execution_count": null,
   "metadata": {},
   "outputs": [],
   "source": [
    "kql_query= \"DeviceProcessEvents | limit 10\"\n",
    "# 'DeviceRegistryEvents | limit 10'"
   ]
  },
  {
   "cell_type": "code",
   "execution_count": null,
   "metadata": {},
   "outputs": [],
   "source": [
    "advancedquery_run(access_token,kql_query)"
   ]
  },
  {
   "cell_type": "markdown",
   "metadata": {},
   "source": [
    "<h1 align='center'>========================================================<br>=======================================================<br>INCIDENT API</h1>\n",
    "\n",
    "List of methods in the Incident API (https://docs.microsoft.com/en-us/microsoft-365/security/mtp/api-incident?view=o365-worldwide"
   ]
  },
  {
   "cell_type": "markdown",
   "metadata": {},
   "source": [
    "|Method\t| Return Type |Description  |\n",
    "|:- |:-|:-|\n",
    "|List incidents|\tIncident list|\tGet a list of incidents.|\n",
    "|Update incident|\tIncident|\tUpdate a specific incident.|"
   ]
  },
  {
   "cell_type": "markdown",
   "metadata": {},
   "source": [
    "## METHOD List incidents"
   ]
  },
  {
   "cell_type": "code",
   "execution_count": null,
   "metadata": {},
   "outputs": [],
   "source": [
    "def m365d_incidents_listincidents(access_token):\n",
    "    url = \"https://api.security.microsoft.com/api/incidents\"\n",
    "    req = urllib.request.Request(url, headers={'Authorization' : \"Bearer \" + access_token})\n",
    "    response = urllib.request.urlopen(req)\n",
    "    jsonResponse = json.loads(response.read())\n",
    "    return pd.DataFrame.from_records(jsonResponse['value'])"
   ]
  },
  {
   "cell_type": "code",
   "execution_count": null,
   "metadata": {},
   "outputs": [],
   "source": [
    "df_incidents = m365d_incidents_listincidents(access_token)\n",
    "df_incidents"
   ]
  }
 ],
 "metadata": {
  "kernelspec": {
   "display_name": "Python 3",
   "language": "python",
   "name": "python3"
  },
  "language_info": {
   "codemirror_mode": {
    "name": "ipython",
    "version": 3
   },
   "file_extension": ".py",
   "mimetype": "text/x-python",
   "name": "python",
   "nbconvert_exporter": "python",
   "pygments_lexer": "ipython3",
   "version": "3.9.13"
  }
 },
 "nbformat": 4,
 "nbformat_minor": 4
}
