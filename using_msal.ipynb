{
 "cells": [
  {
   "cell_type": "code",
   "execution_count": null,
   "id": "61586ae5",
   "metadata": {},
   "outputs": [],
   "source": [
    "appId = '' \n",
    "appSecret = '' \n",
    "tenantId = ''"
   ]
  },
  {
   "cell_type": "code",
   "execution_count": null,
   "id": "cb91d42c",
   "metadata": {},
   "outputs": [],
   "source": [
    "import pandas as pd\n",
    "import json\n",
    "import requests \n",
    "import msal"
   ]
  },
  {
   "cell_type": "code",
   "execution_count": null,
   "id": "fb4ed69d",
   "metadata": {},
   "outputs": [],
   "source": [
    "app = msal.ConfidentialClientApplication(appId, authority='https://login.microsoftonline.com/' + tenantId, client_credential = appSecret)\n",
    "\n",
    "# scope = ['https://graph.microsoft.com/.default']\n",
    "# scope = ['https://management.azure.com/.default']\n",
    "scope = ['https://api.security.microsoft.com/.default']\n",
    "\n",
    "try:\n",
    "    accessToken = app.acquire_token_for_client(scopes=scope)['access_token']\n",
    "except:\n",
    "    print(\"Problem with accessToken\")"
   ]
  },
  {
   "cell_type": "code",
   "execution_count": null,
   "id": "e35265cb",
   "metadata": {},
   "outputs": [],
   "source": [
    "def msgraph_request(resource,accessToken):\n",
    "    results = requests.get(resource, headers={'Authorization': 'Bearer ' + accessToken}).json()\n",
    "    return pd.read_json(json.dumps(results['value']))"
   ]
  },
  {
   "cell_type": "markdown",
   "id": "0da64439",
   "metadata": {},
   "source": [
    "### The following works if the scope is 'https://graph.microsoft.com/.default'"
   ]
  },
  {
   "cell_type": "code",
   "execution_count": null,
   "id": "2716a825",
   "metadata": {},
   "outputs": [],
   "source": [
    "df_users = msgraph_request(\"https://graph.microsoft.com/v1.0/users\",accessToken)\n",
    "df_groups = msgraph_request(\"https://graph.microsoft.com/v1.0/groups\",accessToken)\n",
    "df_directoryroles = msgraph_request(\"https://graph.microsoft.com/v1.0/directoryRoles\",accessToken)\n",
    "df_alerts = msgraph_request(\"https://graph.microsoft.com/v1.0/security/alerts\",accessToken)"
   ]
  },
  {
   "cell_type": "code",
   "execution_count": null,
   "id": "440af814",
   "metadata": {},
   "outputs": [],
   "source": [
    "print(len(df_users))\n",
    "print(len(df_groups))\n",
    "print(len(df_directoryroles))\n",
    "print(len(df_alerts))"
   ]
  },
  {
   "cell_type": "markdown",
   "id": "843fda63",
   "metadata": {},
   "source": [
    "### The following works if the scope is 'https://api.security.microsoft.com/api/incidents'"
   ]
  },
  {
   "cell_type": "code",
   "execution_count": null,
   "id": "e0d3afa6",
   "metadata": {},
   "outputs": [],
   "source": [
    "df_incidents = msgraph_request(\"https://api.security.microsoft.com/api/incidents\",accessToken)"
   ]
  },
  {
   "cell_type": "code",
   "execution_count": null,
   "id": "29cd83e5",
   "metadata": {},
   "outputs": [],
   "source": [
    "print(len(df_incidents))"
   ]
  },
  {
   "cell_type": "markdown",
   "id": "7bfa44c1",
   "metadata": {},
   "source": [
    "# Problem with pagination!"
   ]
  }
 ],
 "metadata": {
  "kernelspec": {
   "display_name": "Python 3",
   "language": "python",
   "name": "python3"
  },
  "language_info": {
   "codemirror_mode": {
    "name": "ipython",
    "version": 3
   },
   "file_extension": ".py",
   "mimetype": "text/x-python",
   "name": "python",
   "nbconvert_exporter": "python",
   "pygments_lexer": "ipython3",
   "version": "3.9.13"
  }
 },
 "nbformat": 4,
 "nbformat_minor": 5
}
