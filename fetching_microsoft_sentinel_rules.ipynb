{
 "cells": [
  {
   "cell_type": "markdown",
   "id": "e1acb8b9",
   "metadata": {},
   "source": [
    "# Fetching Microsoft Sentinel Alert Rules"
   ]
  },
  {
   "cell_type": "markdown",
   "id": "3072db5c",
   "metadata": {},
   "source": [
    "This uses [\"Microsoft Sentinel\" REST API](https://learn.microsoft.com/en-us/rest/api/securityinsights/), the management API (https://management.azure.com), and the \"Azure Service Management\" permission (with \"user_impersonation\")."
   ]
  },
  {
   "cell_type": "code",
   "execution_count": null,
   "id": "561a2ad9",
   "metadata": {},
   "outputs": [],
   "source": [
    "appId = ''\n",
    "tenantId = ''\n",
    "appSecret = ''\n",
    "\n",
    "subscriptionId = ''\n",
    "resourceGroupName = ''\n",
    "workspaceName = '' \n",
    "\n",
    "apiVersion = ''"
   ]
  },
  {
   "cell_type": "markdown",
   "id": "42686f4a",
   "metadata": {},
   "source": [
    "# Getting the token"
   ]
  },
  {
   "cell_type": "code",
   "execution_count": null,
   "id": "0f3dc285",
   "metadata": {},
   "outputs": [],
   "source": [
    "def getaadtoken(tenantId, appId, appSecret):\n",
    "    url = \"https://login.windows.net/%s/oauth2/token\" % (tenantId)\n",
    "    resourceAppIdUri = 'https://management.azure.com'\n",
    "    body = {\n",
    "        'resource' : resourceAppIdUri,\n",
    "        'client_id' : appId,\n",
    "        'client_secret' : appSecret,\n",
    "        'grant_type' : 'client_credentials'\n",
    "    }\n",
    "    data = urllib.parse.urlencode(body).encode(\"utf-8\")\n",
    "    req = urllib.request.Request(url, data)\n",
    "    response = urllib.request.urlopen(req)\n",
    "    jsonResponse = json.loads(response.read())\n",
    "    aadToken = jsonResponse[\"access_token\"]\n",
    "    return aadToken"
   ]
  },
  {
   "cell_type": "code",
   "execution_count": null,
   "id": "0a316f78",
   "metadata": {},
   "outputs": [],
   "source": [
    "access_token = getaadtoken(tenantId, appId, appSecret)"
   ]
  },
  {
   "cell_type": "markdown",
   "id": "53741ac6",
   "metadata": {},
   "source": [
    "# Listing alert rules"
   ]
  },
  {
   "cell_type": "code",
   "execution_count": null,
   "id": "b7583714",
   "metadata": {},
   "outputs": [],
   "source": [
    "def listing_alert_rules(access_token,subscriptionId,resourceGroupName,workspaceName,apiVersion):\n",
    "    \n",
    "    url = \"https://management.azure.com/subscriptions/\"+subscriptionId+\\\n",
    "    \"/resourceGroups/\"+resourceGroupName+\\\n",
    "    \"/providers/Microsoft.OperationalInsights/workspaces/\"+workspaceName+\\\n",
    "    \"/providers/Microsoft.SecurityInsights/alertRules?api-version=\"+apiVersion\n",
    "\n",
    "    req = urllib.request.Request(url, \n",
    "                                 headers={'Authorization' : \"Bearer \" + access_token,\\\n",
    "                                          'Content-Type':'application/json'})\n",
    "    response = urllib.request.urlopen(req)\n",
    "    jsonResponse = json.loads(response.read())\n",
    "    df_temp = pd.DataFrame.from_records(jsonResponse['value'])\n",
    "    df_temp = df_temp['properties'].apply(pd.Series)\n",
    "    return df_temp"
   ]
  },
  {
   "cell_type": "code",
   "execution_count": null,
   "id": "fee7e694",
   "metadata": {},
   "outputs": [],
   "source": [
    "df = listing_alert_rules(access_token,subscriptionId,resourceGroupName,workspaceName,apiVersion)"
   ]
  },
  {
   "cell_type": "code",
   "execution_count": null,
   "id": "719a9fb7",
   "metadata": {},
   "outputs": [],
   "source": [
    "df.head()"
   ]
  },
  {
   "cell_type": "code",
   "execution_count": null,
   "id": "871549ac",
   "metadata": {},
   "outputs": [],
   "source": [
    "df.sort_values(by=['displayName']).to_excel('assignment_2022.xlsx')"
   ]
  }
 ],
 "metadata": {
  "kernelspec": {
   "display_name": "Python 3",
   "language": "python",
   "name": "python3"
  },
  "language_info": {
   "codemirror_mode": {
    "name": "ipython",
    "version": 3
   },
   "file_extension": ".py",
   "mimetype": "text/x-python",
   "name": "python",
   "nbconvert_exporter": "python",
   "pygments_lexer": "ipython3",
   "version": "3.9.14"
  }
 },
 "nbformat": 4,
 "nbformat_minor": 5
}
