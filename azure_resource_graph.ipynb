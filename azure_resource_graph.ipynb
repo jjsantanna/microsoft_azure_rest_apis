{
 "cells": [
  {
   "cell_type": "code",
   "execution_count": null,
   "id": "2e9265ac",
   "metadata": {},
   "outputs": [],
   "source": [
    "appId = '' \n",
    "appSecret = '' \n",
    "tenantId = ''"
   ]
  },
  {
   "cell_type": "code",
   "execution_count": null,
   "id": "eed49f50",
   "metadata": {},
   "outputs": [],
   "source": [
    "subscription_id = '' "
   ]
  },
  {
   "cell_type": "markdown",
   "id": "70223ee2",
   "metadata": {},
   "source": [
    "# Playing with \"Azure Resource Graph\" API\n",
    "- Related to: Azure resources \n",
    "- Documentation: https://docs.microsoft.com/en-us/azure/governance/resource-graph/overview\n",
    "- Resource URI: https://management.azure.com\n",
    "- RBAC: 'Reader' at subscription level"
   ]
  },
  {
   "cell_type": "markdown",
   "id": "forward-symbol",
   "metadata": {},
   "source": [
    "# Required Libraries"
   ]
  },
  {
   "cell_type": "code",
   "execution_count": null,
   "id": "quarterly-pantyhose",
   "metadata": {},
   "outputs": [],
   "source": [
    "import pandas as pd\n",
    "pd.set_option(\"display.max_columns\", None)\n",
    "pd.set_option(\"display.max_colwidth\", None)\n",
    "pd.set_option(\"display.max_rows\", None)\n",
    "\n",
    "import matplotlib.pyplot as plt\n",
    "import numpy as np\n",
    "import json\n",
    "import urllib.parse"
   ]
  },
  {
   "cell_type": "markdown",
   "id": "julian-child",
   "metadata": {},
   "source": [
    "# Function to get the token to access via the app"
   ]
  },
  {
   "cell_type": "code",
   "execution_count": null,
   "id": "statewide-prague",
   "metadata": {},
   "outputs": [],
   "source": [
    "def getaadtoken(tenantId, appId, appSecret):\n",
    "    url = \"https://login.windows.net/%s/oauth2/token\" % (tenantId)\n",
    "    resourceAppIdUri = 'https://management.azure.com'\n",
    "    body = {\n",
    "        'resource' : resourceAppIdUri,\n",
    "        'client_id' : appId,\n",
    "        'client_secret' : appSecret,\n",
    "        'grant_type' : 'client_credentials'\n",
    "    }\n",
    "    data = urllib.parse.urlencode(body).encode(\"utf-8\")\n",
    "    req = urllib.request.Request(url, data)\n",
    "    response = urllib.request.urlopen(req)\n",
    "    jsonResponse = json.loads(response.read())\n",
    "    aadToken = jsonResponse[\"access_token\"]\n",
    "    return aadToken"
   ]
  },
  {
   "cell_type": "markdown",
   "id": "framed-surface",
   "metadata": {},
   "source": [
    "# Instantiating previous function"
   ]
  },
  {
   "cell_type": "code",
   "execution_count": null,
   "id": "returning-diameter",
   "metadata": {},
   "outputs": [],
   "source": [
    "access_token = getaadtoken(tenantId, appId, appSecret)"
   ]
  },
  {
   "cell_type": "markdown",
   "id": "statewide-objective",
   "metadata": {},
   "source": [
    "# Function to get the resources (or run a KQL using the 'resources' table)\n",
    "https://docs.microsoft.com/en-us/rest/api/azureresourcegraph/resourcegraph(2019-04-01)/resources"
   ]
  },
  {
   "cell_type": "code",
   "execution_count": null,
   "id": "solved-throat",
   "metadata": {},
   "outputs": [],
   "source": [
    "def resourcegraph_resources(access_token,subscriptions_list,kql_query):\n",
    "    url = \"https://management.azure.com/providers/Microsoft.ResourceGraph/resources?api-version=2019-04-01\"\n",
    "    req = urllib.request.Request(url, \n",
    "                                 headers={'Authorization' : \"Bearer \" + access_token, 'Content-Type':'application/json'},\n",
    "                                 data=bytes(json.dumps({\"subscriptions\": subscriptions_list, \"query\": kql_query}), encoding=\"utf-8\"))\n",
    "    response = urllib.request.urlopen(req)\n",
    "    jsonResponse = json.loads(response.read())\n",
    "    df_temp = pd.DataFrame.from_records(jsonResponse['data']['rows'])\n",
    "    df_temp.columns = pd.DataFrame.from_records(jsonResponse['data']['columns'])['name'].values\n",
    "    return df_temp"
   ]
  },
  {
   "cell_type": "markdown",
   "id": "crucial-collar",
   "metadata": {},
   "source": [
    "# Instantiating previous function"
   ]
  },
  {
   "cell_type": "code",
   "execution_count": null,
   "id": "taken-wheel",
   "metadata": {},
   "outputs": [],
   "source": [
    "df = resourcegraph_resources(access_token,[subscription_id],\"\")"
   ]
  },
  {
   "cell_type": "code",
   "execution_count": null,
   "id": "62eed918",
   "metadata": {},
   "outputs": [],
   "source": [
    "len(df)"
   ]
  },
  {
   "cell_type": "markdown",
   "id": "entitled-financing",
   "metadata": {},
   "source": [
    "# How the data looks like?"
   ]
  },
  {
   "cell_type": "code",
   "execution_count": null,
   "id": "adjacent-embassy",
   "metadata": {},
   "outputs": [],
   "source": [
    "df.head()"
   ]
  },
  {
   "cell_type": "markdown",
   "id": "taken-houston",
   "metadata": {},
   "source": [
    "# How many resources are in each resource group?"
   ]
  },
  {
   "cell_type": "code",
   "execution_count": null,
   "id": "aggressive-clark",
   "metadata": {},
   "outputs": [],
   "source": [
    "df['resourceGroup'].value_counts()"
   ]
  },
  {
   "cell_type": "markdown",
   "id": "liberal-irrigation",
   "metadata": {},
   "source": [
    "# How many resources for each type are there?"
   ]
  },
  {
   "cell_type": "code",
   "execution_count": null,
   "id": "demanding-bangladesh",
   "metadata": {},
   "outputs": [],
   "source": [
    "df['type'].value_counts()"
   ]
  },
  {
   "cell_type": "markdown",
   "id": "distinct-soldier",
   "metadata": {},
   "source": [
    "# Which resources are in each resource group?"
   ]
  },
  {
   "cell_type": "code",
   "execution_count": null,
   "id": "muslim-genome",
   "metadata": {},
   "outputs": [],
   "source": [
    "df.groupby(['resourceGroup'])['type'].apply(list)"
   ]
  },
  {
   "cell_type": "code",
   "execution_count": null,
   "id": "65c062b9",
   "metadata": {},
   "outputs": [],
   "source": []
  }
 ],
 "metadata": {
  "kernelspec": {
   "display_name": "Python 3",
   "language": "python",
   "name": "python3"
  },
  "language_info": {
   "codemirror_mode": {
    "name": "ipython",
    "version": 3
   },
   "file_extension": ".py",
   "mimetype": "text/x-python",
   "name": "python",
   "nbconvert_exporter": "python",
   "pygments_lexer": "ipython3",
   "version": "3.9.13"
  }
 },
 "nbformat": 4,
 "nbformat_minor": 5
}
