{
 "cells": [
  {
   "cell_type": "code",
   "execution_count": null,
   "metadata": {},
   "outputs": [],
   "source": [
    "appId = '' \n",
    "appSecret = '' \n",
    "tenantId = ''"
   ]
  },
  {
   "cell_type": "markdown",
   "metadata": {},
   "source": [
    "# Playing with \"Windows Defender ATP\"\n",
    "- Related to: Microsoft Defender for Endpoint (MDE) (previously called Microsoft Advanced Threat Protection- MDATP) \n",
    "- Documentation: https://docs.microsoft.com/en-us/microsoft-365/security/defender-endpoint/apis-intro\n",
    "- Resource URI: https://api.securitycenter.windows.com\n",
    "- API required: Windows Defender ATP\n",
    "- API permissions required:\n",
    "  - AdvancedQuery.Read.All\n",
    "  - Alert.Read.All\n",
    "  - File.Read.All\n",
    "  - Domains.Read.All\n",
    "  - IP.Read.All\n",
    "  - Machine.Read.All\n",
    "  - Indicator.Read.All\n",
    "  - User.Read.All\n",
    "  - Score.Read.All\n",
    "  - Software.Read.All\n",
    "  - Vunerability.Read.All\n",
    "  - Recommendation.Read.All \n",
    "- How to request access to admin: $https://login.microsoftonline.com/common/oauth2/authorize?prompt=consent&client_id=<HERE-THE-CLIENT-ID>&response_type=code&sso_reload=true$\n",
    "- List of exposed APIs: https://docs.microsoft.com/en-us/microsoft-365/security/defender-endpoint/exposed-apis-list"
   ]
  },
  {
   "cell_type": "markdown",
   "metadata": {},
   "source": [
    "# Required libraries"
   ]
  },
  {
   "cell_type": "code",
   "execution_count": null,
   "metadata": {},
   "outputs": [],
   "source": [
    "import pandas as pd\n",
    "pd.set_option(\"display.max_columns\", None)\n",
    "pd.set_option(\"display.max_colwidth\", None)\n",
    "pd.set_option(\"display.max_rows\", None)\n",
    "\n",
    "import json\n",
    "import urllib.parse"
   ]
  },
  {
   "cell_type": "markdown",
   "metadata": {},
   "source": [
    "<h1 align='center'>========================================================<br>=======================================================</h1>"
   ]
  },
  {
   "cell_type": "markdown",
   "metadata": {},
   "source": [
    "# Function to get the token to access via the app"
   ]
  },
  {
   "cell_type": "code",
   "execution_count": null,
   "metadata": {},
   "outputs": [],
   "source": [
    "def mde_getaadtoken(tenantId, appId, appSecret):\n",
    "    url = \"https://login.windows.net/%s/oauth2/token\" % (tenantId)\n",
    "    resourceAppIdUri = 'https://api.securitycenter.windows.com'\n",
    "    body = {\n",
    "        'resource' : resourceAppIdUri,\n",
    "        'client_id' : appId,\n",
    "        'client_secret' : appSecret,\n",
    "        'grant_type' : 'client_credentials'\n",
    "    }\n",
    "    data = urllib.parse.urlencode(body).encode(\"utf-8\")\n",
    "    req = urllib.request.Request(url, data)\n",
    "    response = urllib.request.urlopen(req)\n",
    "    jsonResponse = json.loads(response.read())\n",
    "    aadToken = jsonResponse[\"access_token\"]\n",
    "    return aadToken"
   ]
  },
  {
   "cell_type": "markdown",
   "metadata": {},
   "source": [
    "# Instantiating previous function"
   ]
  },
  {
   "cell_type": "code",
   "execution_count": null,
   "metadata": {},
   "outputs": [],
   "source": [
    "access_token = mde_getaadtoken(tenantId, appId, appSecret)"
   ]
  },
  {
   "cell_type": "markdown",
   "metadata": {},
   "source": [
    "<h1 align='center'>========================================================<br>=======================================================<br> ADVANCED HUNTING API</h1>\n",
    "\n",
    "Note: this API is the same as the of from the M365D. Examples of queries [here!](https://github.com/microsoft/Microsoft-365-Defender-Hunting-Queries)"
   ]
  },
  {
   "cell_type": "markdown",
   "metadata": {},
   "source": [
    "# Function Run (KQL)\n",
    "https://docs.microsoft.com/en-us/windows/security/threat-protection/microsoft-defender-atp/run-advanced-query-api"
   ]
  },
  {
   "cell_type": "code",
   "execution_count": null,
   "metadata": {},
   "outputs": [],
   "source": [
    "def mde_advancedquery_run(access_token,kql_query):\n",
    "    url = \"https://api.securitycenter.microsoft.com/api/advancedqueries/run\"\n",
    "    req = urllib.request.Request(url, \n",
    "                                 headers={'Authorization' : \"Bearer \" + access_token, 'Content-Type':'application/json'},\n",
    "                                 data=bytes(json.dumps({\"Query\": kql_query}), encoding=\"utf-8\"))\n",
    "    response = urllib.request.urlopen(req)\n",
    "    jsonResponse = json.loads(response.read())\n",
    "    return pd.DataFrame.from_records(jsonResponse['Results'])"
   ]
  },
  {
   "cell_type": "markdown",
   "metadata": {},
   "source": [
    "# Example of instantiating this function"
   ]
  },
  {
   "cell_type": "code",
   "execution_count": null,
   "metadata": {},
   "outputs": [],
   "source": [
    "kql_query = \"\"\"\n",
    "DeviceProcessEvents\n",
    "|limit 10\n",
    "\"\"\""
   ]
  },
  {
   "cell_type": "code",
   "execution_count": null,
   "metadata": {},
   "outputs": [],
   "source": [
    "df_mde_advancedquery_run = mde_advancedquery_run(access_token,kql_query)\n",
    "df_mde_advancedquery_run.head()"
   ]
  },
  {
   "cell_type": "markdown",
   "metadata": {},
   "source": [
    "<h1 align='center'>========================================================<br>=======================================================<br>ALERT API</h1>"
   ]
  },
  {
   "cell_type": "markdown",
   "metadata": {},
   "source": [
    "List of methods in the Alert API (https://docs.microsoft.com/en-us/windows/security/threat-protection/microsoft-defender-atp/alerts)"
   ]
  },
  {
   "cell_type": "markdown",
   "metadata": {},
   "source": [
    "|Method\t| Return Type |Description  |\n",
    "|:- |:-|:-|\n",
    "|Get alert|\tAlert|\tGet a single alert object.|\n",
    "|List alerts|\tAlert| collection\tList alert collection.|\n",
    "|Update alert|\tAlert|\tUpdate specific alert.|\n",
    "|Create alert|\tAlert|\tCreate an alert based on event data obtained from Advanced Hunting.|\n",
    "|List related domains|\tDomain collection|\tList URLs associated with the alert.|\n",
    "|List related files|\tFile collection|\tList the file entities that are associated with the alert.|\n",
    "|List related IPs|\tIP collection|\tList IPs that are associated with the alert.|\n",
    "|Get related machines|\tMachine|\tThe machine that is associated with the alert.|\n",
    "|Get related users|\tUser|\tThe user that is associated with the alert.|"
   ]
  },
  {
   "cell_type": "markdown",
   "metadata": {},
   "source": [
    "<h1 align='center'>...........................................................</h1>"
   ]
  },
  {
   "cell_type": "markdown",
   "metadata": {},
   "source": [
    "# FUNCTION List alerts"
   ]
  },
  {
   "cell_type": "code",
   "execution_count": null,
   "metadata": {},
   "outputs": [],
   "source": [
    "def mde_alerts_listalerts(access_token):\n",
    "    url = \"https://api.securitycenter.windows.com/api/alerts\"\n",
    "    req = urllib.request.Request(url, headers={'Authorization' : \"Bearer \" + access_token})\n",
    "    response = urllib.request.urlopen(req)\n",
    "    jsonResponse = json.loads(response.read())\n",
    "    return pd.DataFrame.from_records(jsonResponse['value'])"
   ]
  },
  {
   "cell_type": "markdown",
   "metadata": {},
   "source": [
    "# Instantiating the above function"
   ]
  },
  {
   "cell_type": "code",
   "execution_count": null,
   "metadata": {},
   "outputs": [],
   "source": [
    "df_alerts = mde_alerts_listalerts(access_token)"
   ]
  },
  {
   "cell_type": "markdown",
   "metadata": {},
   "source": [
    "# How the list of alerts looks like?"
   ]
  },
  {
   "cell_type": "code",
   "execution_count": null,
   "metadata": {},
   "outputs": [],
   "source": [
    "df_alerts.head()"
   ]
  },
  {
   "cell_type": "markdown",
   "metadata": {},
   "source": [
    "<h1 align='center'>...........................................................</h1>"
   ]
  },
  {
   "cell_type": "markdown",
   "metadata": {},
   "source": [
    "# FUNCTION Get alert"
   ]
  },
  {
   "cell_type": "code",
   "execution_count": null,
   "metadata": {},
   "outputs": [],
   "source": [
    "def mde_alerts_getalert(access_token,alert_id):\n",
    "    url = \"https://api.securitycenter.windows.com/api/alerts/\"+str(alert_id)\n",
    "    req = urllib.request.Request(url, headers={'Authorization' : \"Bearer \" + access_token})\n",
    "    response = urllib.request.urlopen(req)\n",
    "    jsonResponse = json.loads(response.read())\n",
    "    return pd.DataFrame.from_dict(jsonResponse,orient='index').transpose()"
   ]
  },
  {
   "cell_type": "markdown",
   "metadata": {},
   "source": [
    "# Instantiating the previous function"
   ]
  },
  {
   "cell_type": "code",
   "execution_count": null,
   "metadata": {},
   "outputs": [],
   "source": [
    "mde_alerts_getalert(access_token,df_alerts['id'][0])"
   ]
  },
  {
   "cell_type": "markdown",
   "metadata": {},
   "source": [
    "<h1 align='center'>...........................................................</h1>"
   ]
  },
  {
   "cell_type": "markdown",
   "metadata": {},
   "source": [
    "# FUNCTION List related domains"
   ]
  },
  {
   "cell_type": "code",
   "execution_count": null,
   "metadata": {},
   "outputs": [],
   "source": [
    "def mde_alerts_listrelateddomains(access_token,alarm_id):\n",
    "    url = \"https://api.securitycenter.windows.com/api/alerts/\"+str(alarm_id)+\"/domains\"\n",
    "    req = urllib.request.Request(url, headers={'Authorization' : \"Bearer \" + access_token})\n",
    "    response = urllib.request.urlopen(req)\n",
    "    jsonResponse = json.loads(response.read())\n",
    "    return pd.DataFrame.from_records(jsonResponse['value'])"
   ]
  },
  {
   "cell_type": "markdown",
   "metadata": {},
   "source": [
    "# Instantiating the previous function"
   ]
  },
  {
   "cell_type": "code",
   "execution_count": null,
   "metadata": {},
   "outputs": [],
   "source": [
    "mde_alerts_listrelateddomains(access_token,df_alerts['id'][0])"
   ]
  },
  {
   "cell_type": "markdown",
   "metadata": {},
   "source": [
    "<h1 align='center'>...........................................................</h1>\n"
   ]
  },
  {
   "cell_type": "markdown",
   "metadata": {},
   "source": [
    "# FUNCTION List related files"
   ]
  },
  {
   "cell_type": "code",
   "execution_count": null,
   "metadata": {},
   "outputs": [],
   "source": [
    "def mde_alerts_listrelatedfiles(access_token,alert_id):\n",
    "    url = \"https://api.securitycenter.windows.com/api/alerts/\"+str(alert_id)+\"/files\"\n",
    "    req = urllib.request.Request(url, headers={'Authorization' : \"Bearer \" + access_token})\n",
    "    response = urllib.request.urlopen(req)\n",
    "    jsonResponse = json.loads(response.read())\n",
    "    return pd.DataFrame.from_records(jsonResponse['value'])"
   ]
  },
  {
   "cell_type": "markdown",
   "metadata": {},
   "source": [
    "# Instantiating the previous function"
   ]
  },
  {
   "cell_type": "code",
   "execution_count": null,
   "metadata": {},
   "outputs": [],
   "source": [
    "mde_alerts_listrelatedfiles(access_token,df_alerts['id'][0])"
   ]
  },
  {
   "cell_type": "markdown",
   "metadata": {},
   "source": [
    "<h1 align='center'>...........................................................</h1>"
   ]
  },
  {
   "cell_type": "markdown",
   "metadata": {},
   "source": [
    "# FUNCTION List related IPs"
   ]
  },
  {
   "cell_type": "code",
   "execution_count": null,
   "metadata": {},
   "outputs": [],
   "source": [
    "def mde_alerts_listrelatedips(access_token,alarm_id):\n",
    "    url = \"https://api.securitycenter.windows.com/api/alerts/\"+str(alarm_id)+\"/ips\"\n",
    "    req = urllib.request.Request(url, headers={'Authorization' : \"Bearer \" + access_token})\n",
    "    response = urllib.request.urlopen(req)\n",
    "    jsonResponse = json.loads(response.read())\n",
    "    return pd.DataFrame.from_records(jsonResponse['value'])"
   ]
  },
  {
   "cell_type": "markdown",
   "metadata": {},
   "source": [
    "# Instantiating the previous function"
   ]
  },
  {
   "cell_type": "code",
   "execution_count": null,
   "metadata": {},
   "outputs": [],
   "source": [
    "mde_alerts_listrelatedips(access_token,df_alerts['id'][0])"
   ]
  },
  {
   "cell_type": "markdown",
   "metadata": {},
   "source": [
    "<h1 align='center'>...........................................................</h1>"
   ]
  },
  {
   "cell_type": "markdown",
   "metadata": {},
   "source": [
    "# FUNCTION Get related machines"
   ]
  },
  {
   "cell_type": "code",
   "execution_count": null,
   "metadata": {},
   "outputs": [],
   "source": [
    "def mde_alerts_getrelatedmachines(access_token,alarm_id):\n",
    "    url = \"https://api.securitycenter.windows.com/api/alerts/\"+str(alarm_id)+\"/machine\"\n",
    "    req = urllib.request.Request(url, headers={'Authorization' : \"Bearer \" + access_token})\n",
    "    response = urllib.request.urlopen(req)\n",
    "    jsonResponse = json.loads(response.read())\n",
    "    return pd.DataFrame.from_dict(jsonResponse,orient='index').transpose()"
   ]
  },
  {
   "cell_type": "markdown",
   "metadata": {},
   "source": [
    "# Instantiating the previous function"
   ]
  },
  {
   "cell_type": "code",
   "execution_count": null,
   "metadata": {},
   "outputs": [],
   "source": [
    "mde_alerts_getrelatedmachines(access_token,df_alerts['id'][0])"
   ]
  },
  {
   "cell_type": "markdown",
   "metadata": {},
   "source": [
    "<h1 align='center'>========================================================<br>=======================================================</h1>"
   ]
  },
  {
   "cell_type": "markdown",
   "metadata": {},
   "source": [
    "# List of methods in the Machine API\n",
    "https://docs.microsoft.com/en-us/windows/security/threat-protection/microsoft-defender-atp/machine"
   ]
  },
  {
   "cell_type": "markdown",
   "metadata": {},
   "source": [
    "|Method|\tReturn Type|\tDescription|\n",
    "|:- |:-|:-|\n",
    "|List machines|\tmachine collection|\tList set of machine entities in the org.|\n",
    "|Get machine|\tmachine\t|Get a machine by its identity.|\n",
    "|Get logged on users|\tuser collection|\tGet the set of User that logged on to the machine.|\n",
    "|Get related alerts\t|alert collection|\tGet the set of alert entities that were raised on the machine.|\n",
    "|Get installed software|\tsoftware collection|\tRetrieves a collection of installed software related to a given machine ID.|\n",
    "|Get discovered vulnerabilities|\tvulnerability collection|\tRetrieves a collection of discovered vulnerabilities related to a given machine ID.|\n",
    "|Get security recommendations|\trecommendation collection|\tRetrieves a collection of security recommendations related to a given machine ID.|\n",
    "|Add or Remove machine tags|\tmachine|\tAdd or Remove tag to a specific machine.|\n",
    "|Find machines by IP|\tmachine collection|\tFind machines seen with IP.|\n",
    "|Find machines by tag|\tmachine collection|\tFind machines by Tag.|\n",
    "|Get missing KBs|\tKB collection|\tGet a list of missing KBs associated with the machine ID.|\n",
    "|Set device value|\tmachine collection|\tSet the value of a device.|"
   ]
  },
  {
   "cell_type": "markdown",
   "metadata": {},
   "source": [
    "<h1 align='center'>...........................................................</h1>"
   ]
  },
  {
   "cell_type": "markdown",
   "metadata": {},
   "source": [
    "# FUNCTION List machines"
   ]
  },
  {
   "cell_type": "code",
   "execution_count": null,
   "metadata": {},
   "outputs": [],
   "source": [
    "def mde_machines_listmachines(access_token):\n",
    "    url = \"https://api.securitycenter.microsoft.com/api/machines\"\n",
    "    req = urllib.request.Request(url, headers={'Authorization' : \"Bearer \" + access_token})\n",
    "    response = urllib.request.urlopen(req)\n",
    "    jsonResponse = json.loads(response.read())\n",
    "    return pd.DataFrame.from_records(jsonResponse['value'])"
   ]
  },
  {
   "cell_type": "markdown",
   "metadata": {},
   "source": [
    "# Instantiating the previous function"
   ]
  },
  {
   "cell_type": "code",
   "execution_count": null,
   "metadata": {},
   "outputs": [],
   "source": [
    "df_machines = mde_machines_listmachines(access_token)\n",
    "df_machines"
   ]
  },
  {
   "cell_type": "markdown",
   "metadata": {},
   "source": [
    "<h1 align='center'>...........................................................</h1>"
   ]
  },
  {
   "cell_type": "markdown",
   "metadata": {},
   "source": [
    "# FUNCTION Get machines"
   ]
  },
  {
   "cell_type": "code",
   "execution_count": null,
   "metadata": {},
   "outputs": [],
   "source": [
    "def mde_machines_getmachine(access_token,machine_id):\n",
    "    url = \"https://api.securitycenter.windows.com/api/machines/\"+str(machine_id)\n",
    "    req = urllib.request.Request(url, headers={'Authorization' : \"Bearer \" + access_token})\n",
    "    response = urllib.request.urlopen(req)\n",
    "    jsonResponse = json.loads(response.read())\n",
    "    return pd.DataFrame.from_dict(jsonResponse,orient='index').transpose()"
   ]
  },
  {
   "cell_type": "markdown",
   "metadata": {},
   "source": [
    "# Instantiating the previous function"
   ]
  },
  {
   "cell_type": "code",
   "execution_count": null,
   "metadata": {},
   "outputs": [],
   "source": [
    "mde_machines_getmachine(access_token,df_machines['id'][0])"
   ]
  },
  {
   "cell_type": "code",
   "execution_count": null,
   "metadata": {},
   "outputs": [],
   "source": []
  }
 ],
 "metadata": {
  "kernelspec": {
   "display_name": "Python 3",
   "language": "python",
   "name": "python3"
  },
  "language_info": {
   "codemirror_mode": {
    "name": "ipython",
    "version": 3
   },
   "file_extension": ".py",
   "mimetype": "text/x-python",
   "name": "python",
   "nbconvert_exporter": "python",
   "pygments_lexer": "ipython3",
   "version": "3.9.13"
  }
 },
 "nbformat": 4,
 "nbformat_minor": 4
}
